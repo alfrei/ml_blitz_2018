{
 "cells": [
  {
   "cell_type": "code",
   "execution_count": 161,
   "metadata": {
    "collapsed": true
   },
   "outputs": [],
   "source": [
    "fin = open('./coins.in')\n",
    "n = int(fin.readline())\n",
    "out = []\n",
    "for i, line in enumerate(fin.readlines()):\n",
    "    tries, heads = list(map(int, line.split()))\n",
    "    heads1p = heads + 1\n",
    "    tails1p = tries - heads + 1\n",
    "    out.append((i, heads1p / tails1p))\n",
    "fin.close()"
   ]
  },
  {
   "cell_type": "code",
   "execution_count": 162,
   "metadata": {
    "collapsed": true
   },
   "outputs": [],
   "source": [
    "out.sort(key=lambda x:x[1])\n",
    "\n",
    "fout = open('coins.out', 'w')\n",
    "[fout.write(str(x[0])+'\\n') for x in out];\n",
    "fout.close()"
   ]
  }
 ],
 "metadata": {
  "kernelspec": {
   "display_name": "Python 3",
   "language": "python",
   "name": "python3"
  },
  "language_info": {
   "codemirror_mode": {
    "name": "ipython",
    "version": 3
   },
   "file_extension": ".py",
   "mimetype": "text/x-python",
   "name": "python",
   "nbconvert_exporter": "python",
   "pygments_lexer": "ipython3",
   "version": "3.6.1"
  }
 },
 "nbformat": 4,
 "nbformat_minor": 2
}
