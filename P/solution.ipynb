{
 "cells": [
  {
   "cell_type": "code",
   "execution_count": 1,
   "metadata": {
    "collapsed": true
   },
   "outputs": [],
   "source": [
    "# good article:\n",
    "# https://ml.berkeley.edu/blog/2018/01/10/adversarial-examples/\n",
    "# paper:\n",
    "# https://arxiv.org/abs/1412.6572"
   ]
  },
  {
   "cell_type": "code",
   "execution_count": 81,
   "metadata": {
    "collapsed": true
   },
   "outputs": [],
   "source": [
    "import numpy as np \n",
    "import pandas as pd\n",
    "import matplotlib.pyplot as plt\n",
    "%matplotlib inline"
   ]
  },
  {
   "cell_type": "code",
   "execution_count": 82,
   "metadata": {
    "collapsed": true
   },
   "outputs": [],
   "source": [
    "def mse(y, yhat):\n",
    "    return np.mean(np.power(y - yhat, 2))"
   ]
  },
  {
   "cell_type": "code",
   "execution_count": 83,
   "metadata": {
    "collapsed": true
   },
   "outputs": [],
   "source": [
    "w = pd.read_csv('./wb_model.tsv', sep='\\t', header=None).values\n",
    "test = pd.read_csv('./images.tsv', sep='\\t', header=None).values\n",
    "labels = test[:, -1]\n",
    "test = test[:, :-1]"
   ]
  },
  {
   "cell_type": "code",
   "execution_count": 84,
   "metadata": {},
   "outputs": [
    {
     "data": {
      "image/png": "[encoded data removed]",
      "text/plain": [
       "<matplotlib.figure.Figure at 0x7fee9444fbe0>"
      ]
     },
     "metadata": {},
     "output_type": "display_data"
    }
   ],
   "source": [
    "# input images \n",
    "for i in range(3):\n",
    "    plt.subplot(131 + i)\n",
    "    plt.imshow(test[i].reshape(32, 32, -1).astype('uint8'))\n",
    "    plt.axis('off')"
   ]
  },
  {
   "cell_type": "code",
   "execution_count": 106,
   "metadata": {
    "collapsed": true
   },
   "outputs": [],
   "source": [
    "def normalize(img):\n",
    "    return img * 0.01 - 1.28\n",
    "\n",
    "def inverse(img):\n",
    "    return ((img + 1.28) * 100).astype('uint8')\n",
    "    \n",
    "def model_prediction(w, x, to_int=False):\n",
    "    if to_int:\n",
    "        x = inverse(x).astype('uint8')\n",
    "        x = normalize(x)\n",
    "    h = w @ x\n",
    "    e = np.exp(h)\n",
    "    y = e / np.sum(e, axis=0)\n",
    "    return y"
   ]
  },
  {
   "cell_type": "code",
   "execution_count": 107,
   "metadata": {},
   "outputs": [
    {
     "name": "stdout",
     "output_type": "stream",
     "text": [
      "1 0.42214679305999825\n",
      "[0.08050729 0.42214679 0.02815839 0.01158023 0.01169259 0.00528199\n",
      " 0.01472759 0.02145053 0.18641341 0.21804119]\n"
     ]
    }
   ],
   "source": [
    "# sanity check \n",
    "x = test[0].copy()\n",
    "pred = model_prediction(w, normalize(x))\n",
    "print(np.argmax(pred), np.max(pred))\n",
    "print(pred)"
   ]
  },
  {
   "cell_type": "code",
   "execution_count": 108,
   "metadata": {},
   "outputs": [],
   "source": [
    "def target_adversarial_attack(x, lr, reg, n_class, target_class, n_epochs, predict):\n",
    "    \n",
    "    x_hat = x.copy()\n",
    "    y = np.zeros(n_class)\n",
    "    y[target_class] = 1\n",
    "    for e in range(n_epochs):\n",
    "        y_hat = predict(w, x_hat)\n",
    "        grad = lr * ( w.T @ (y_hat - y) + reg * (x_hat - x) )\n",
    "        x_hat = (x_hat - grad).clip(-1.28, 1.27)\n",
    "        p = predict(w, x_hat, True)[target_class]\n",
    "        #if e % 200 == 0: print(e, p)\n",
    "        if p > 0.5:\n",
    "            return x_hat\n",
    "\n",
    "# hyper parameters\n",
    "lr = 0.01\n",
    "reg = 0.05\n",
    "n_epochs = 100000\n",
    "n_class = 10\n",
    "\n",
    "# loop by images \n",
    "adv_img = []\n",
    "errors = []\n",
    "for i in range(labels.shape[0]):\n",
    "    x = test[i].copy()\n",
    "    target_class = labels[i]\n",
    "    adv = target_adversarial_attack(normalize(x), lr, reg, \n",
    "                                    n_class, target_class, n_epochs, model_prediction)\n",
    "    adv = inverse(adv)\n",
    "    adv_img.append(adv)\n",
    "    errors.append(mse(x, adv))"
   ]
  },
  {
   "cell_type": "code",
   "execution_count": 109,
   "metadata": {},
   "outputs": [
    {
     "data": {
      "text/plain": [
       "(75.54166666666667, [106.61458333333333, 23.017252604166668, 96.9931640625])"
      ]
     },
     "execution_count": 109,
     "metadata": {},
     "output_type": "execute_result"
    }
   ],
   "source": [
    "np.mean(errors), errors"
   ]
  },
  {
   "cell_type": "code",
   "execution_count": 110,
   "metadata": {},
   "outputs": [
    {
     "data": {
      "text/plain": [
       "<matplotlib.image.AxesImage at 0x7fee93f1da58>"
      ]
     },
     "execution_count": 110,
     "metadata": {},
     "output_type": "execute_result"
    },
    {
     "data": {
      "image/png": "[encoded data removed]",
      "text/plain": [
       "<matplotlib.figure.Figure at 0x7fee93fe8cf8>"
      ]
     },
     "metadata": {},
     "output_type": "display_data"
    }
   ],
   "source": [
    "plt.subplot(121)\n",
    "plt.axis('off')\n",
    "plt.imshow(test[0].reshape(32, 32, -1).astype('uint8'))\n",
    "plt.subplot(122)\n",
    "plt.axis('off')\n",
    "plt.imshow(adv_img[0].reshape(32, 32, -1).astype('uint8'))"
   ]
  },
  {
   "cell_type": "code",
   "execution_count": 114,
   "metadata": {},
   "outputs": [
    {
     "name": "stdout",
     "output_type": "stream",
     "text": [
      "True 0.5001311167273227\n",
      "True 0.5003828369716513\n",
      "True 0.5002385649651111\n"
     ]
    }
   ],
   "source": [
    "# sanity check 2\n",
    "for i in range(3):\n",
    "    yhat = model_prediction(w, normalize(adv_img[i]))\n",
    "    print(np.argmax(yhat) == labels[i], np.max(yhat))"
   ]
  },
  {
   "cell_type": "code",
   "execution_count": 115,
   "metadata": {},
   "outputs": [],
   "source": [
    "fout = open(\"output.txt\", \"w\")\n",
    "for img in adv_img:\n",
    "    fout.write(' '.join(map(str, img.tolist())))\n",
    "    fout.write('\\n')\n",
    "fout.close()"
   ]
  },
  {
   "cell_type": "code",
   "execution_count": 112,
   "metadata": {
    "collapsed": true
   },
   "outputs": [],
   "source": [
    "np.savetxt('out.txt', np.array(adv_img), '%d')"
   ]
  }
 ],
 "metadata": {
  "kernelspec": {
   "display_name": "Python 3",
   "language": "python",
   "name": "python3"
  },
  "language_info": {
   "codemirror_mode": {
    "name": "ipython",
    "version": 3
   },
   "file_extension": ".py",
   "mimetype": "text/x-python",
   "name": "python",
   "nbconvert_exporter": "python",
   "pygments_lexer": "ipython3",
   "version": "3.6.1"
  }
 },
 "nbformat": 4,
 "nbformat_minor": 2
}
