{
 "cells": [
  {
   "cell_type": "code",
   "execution_count": 5,
   "metadata": {
    "collapsed": true
   },
   "outputs": [],
   "source": [
    "import pandas as pd \n",
    "import numpy as np"
   ]
  },
  {
   "cell_type": "code",
   "execution_count": 15,
   "metadata": {
    "collapsed": true
   },
   "outputs": [],
   "source": [
    "def check_scores(scores, data):\n",
    "    n = len(data)\n",
    "    for i in range(n):\n",
    "        for j in range(i+1, n):\n",
    "            s1, (r1, d1) = scores[i], data[i]\n",
    "            s2, (r2, d2) = scores[j], data[j]\n",
    "            if s1 < s2 and r1 >= r2 and d1 <= d2 or \\\n",
    "            s2 < s1 and r2 >= r1 and d2 <= d1:\n",
    "                return i, j\n",
    "    return \"correct\"\n",
    "\n",
    "def loss(score_w, score_l, n):\n",
    "    score_l = np.array(score_l)\n",
    "    score_w = np.array(score_w)\n",
    "    loss = np.sum(np.log(1 + np.exp(score_l - score_w))) / n\n",
    "    return loss\n",
    "\n",
    "def load_input():\n",
    "    fin = open('./restaurants.in')\n",
    "    n = int(fin.readline().strip())\n",
    "    data = []\n",
    "    for line in fin:\n",
    "        data.append([float(x) for x in line.strip().split()])\n",
    "    fin.close()\n",
    "    return np.array(data), data\n"
   ]
  },
  {
   "cell_type": "markdown",
   "metadata": {},
   "source": [
    "Training"
   ]
  },
  {
   "cell_type": "code",
   "execution_count": 7,
   "metadata": {
    "collapsed": true
   },
   "outputs": [],
   "source": [
    "# load data \n",
    "train = pd.read_csv('./restaurants_train.txt', sep='\\t', header=None)"
   ]
  },
  {
   "cell_type": "code",
   "execution_count": 8,
   "metadata": {
    "collapsed": true
   },
   "outputs": [],
   "source": [
    "# make restaurants.in\n",
    "unique_samples = set()\n",
    "for record in train.iterrows():\n",
    "    features1 = tuple(map(str, [record[1][1], record[1][3]]))\n",
    "    features2 = tuple(map(str, [record[1][2], record[1][4]]))\n",
    "    unique_samples.update([features1, features2])\n",
    "\n",
    "with open('./restaurants.in', 'w') as rest_in:\n",
    "    rest_in.write(str(len(unique_samples))+'\\n')\n",
    "    for us in unique_samples:\n",
    "        rest_in.write(' '.join(list(us)) + '\\n')"
   ]
  },
  {
   "cell_type": "code",
   "execution_count": 9,
   "metadata": {
    "collapsed": true
   },
   "outputs": [],
   "source": [
    "X, data = load_input()\n",
    "\n",
    "winner = train.values[:, 0]\n",
    "res_w = train.values[:, [1,3]][winner == 0]\n",
    "res_w = np.vstack((res_w, train.values[:, [2,4]][winner == 1]))\n",
    "\n",
    "res_l = train.values[:, [2,4]][winner == 0]\n",
    "res_l = np.vstack((res_l, train.values[:, [1,3]][winner == 1]))"
   ]
  },
  {
   "cell_type": "code",
   "execution_count": 10,
   "metadata": {},
   "outputs": [
    {
     "data": {
      "image/png": "[encoded data removed]",
      "text/plain": [
       "<matplotlib.figure.Figure at 0x7f3801be0400>"
      ]
     },
     "metadata": {},
     "output_type": "display_data"
    }
   ],
   "source": [
    "# normalize dist\n",
    "\n",
    "import matplotlib.pyplot as plt \n",
    "%matplotlib inline \n",
    "plt.hist(np.log(X[:, 1]+0.0001));"
   ]
  },
  {
   "cell_type": "code",
   "execution_count": 11,
   "metadata": {},
   "outputs": [
    {
     "data": {
      "text/plain": [
       "0.5779123175733465"
      ]
     },
     "execution_count": 11,
     "metadata": {},
     "output_type": "execute_result"
    }
   ],
   "source": [
    "def predict(data, w1=0.1, w2=1):\n",
    "    X = data.copy()\n",
    "    # no standardization needed \n",
    "    ratings = X[:, 0]\n",
    "    dist = X[:, 1]\n",
    "    # set unknown rating to zero\n",
    "    ratings[ratings < 0] = 0\n",
    "    return ratings * w1 - np.log(dist+0.0001) * w2\n",
    "\n",
    "scores_w = predict(res_w)\n",
    "scores_l = predict(res_l)\n",
    "loss(scores_w, scores_l, scores_w.shape[0])\n"
   ]
  },
  {
   "cell_type": "code",
   "execution_count": 12,
   "metadata": {
    "collapsed": true
   },
   "outputs": [],
   "source": [
    "def write_output(scores):\n",
    "    with open('restaurants.out', 'w') as fout:\n",
    "        for s in scores:\n",
    "            fout.write(str(s)+'\\n')"
   ]
  },
  {
   "cell_type": "markdown",
   "metadata": {},
   "source": [
    "Pipeline"
   ]
  },
  {
   "cell_type": "code",
   "execution_count": 16,
   "metadata": {},
   "outputs": [],
   "source": [
    "X, data = load_input()\n",
    "scores = predict(X)\n",
    "assert check_scores(scores, data) == \"correct\"\n",
    "write_output(scores)"
   ]
  },
  {
   "cell_type": "code",
   "execution_count": null,
   "metadata": {
    "collapsed": true
   },
   "outputs": [],
   "source": []
  }
 ],
 "metadata": {
  "kernelspec": {
   "display_name": "Python 3",
   "language": "python",
   "name": "python3"
  },
  "language_info": {
   "codemirror_mode": {
    "name": "ipython",
    "version": 3
   },
   "file_extension": ".py",
   "mimetype": "text/x-python",
   "name": "python",
   "nbconvert_exporter": "python",
   "pygments_lexer": "ipython3",
   "version": "3.6.1"
  }
 },
 "nbformat": 4,
 "nbformat_minor": 2
}
