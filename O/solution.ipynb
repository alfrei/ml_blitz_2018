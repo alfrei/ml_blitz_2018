{
 "cells": [
  {
   "cell_type": "code",
   "execution_count": 3,
   "metadata": {
    "collapsed": true
   },
   "outputs": [],
   "source": [
    "### !pip install scikit-surprise\n",
    "# SVD recommend system SGD description: \n",
    "# http://surprise.readthedocs.io/en/stable/matrix_factorization.html"
   ]
  },
  {
   "cell_type": "code",
   "execution_count": 17,
   "metadata": {},
   "outputs": [
    {
     "name": "stdout",
     "output_type": "stream",
     "text": [
      "7.189234944829974\n",
      "6.631265020596081\n",
      "7.114199667781863\n",
      "6.615160493599864\n"
     ]
    }
   ],
   "source": [
    "import numpy as np \n",
    "\n",
    "def load(file='input.txt'):\n",
    "    fin = open(file)\n",
    "    k, U, M, D, T = map(int, fin.readline().split())\n",
    "    train, test = [], []\n",
    "    i = 0\n",
    "    while i < D + T:\n",
    "        if i < D:\n",
    "            line = fin.readline().split()\n",
    "            train.append((int(line[0]), int(line[1]), float(line[2])))\n",
    "        else:\n",
    "            test.append(tuple(map(int, fin.readline().split())))\n",
    "        i += 1  \n",
    "    fin.close()\n",
    "    return train, test, sum([o[2] for o in train]) / D, U, M, k\n",
    "\n",
    "def fit_svd(train, rating_mean, n_users, n_movies):\n",
    "\n",
    "    bu = np.zeros(n_users)\n",
    "    bm = np.zeros(n_movies)\n",
    "    qm = np.random.normal(0, 0.05, (n_movies, 10))\n",
    "    pu = np.random.normal(0, 0.05, (n_users, 10))\n",
    "\n",
    "    epochs = 10\n",
    "    lam = 0.02\n",
    "    gam = 0.015\n",
    "\n",
    "    # SGD \n",
    "    for _ in range(epochs):\n",
    "        for u, m, r in train:\n",
    "            r_hat = rating_mean + bu[u] + bm[m] + np.dot(pu[u], qm[m])\n",
    "            err = r - r_hat\n",
    "\n",
    "            bu[u] = bu[u] + gam * (err - lam * bu[u])\n",
    "            bm[m] = bm[m] + gam * (err - lam * bm[m])\n",
    "\n",
    "            pu[u] = pu[u] + gam * (err * qm[m] - lam * pu[u])\n",
    "            qm[m] = qm[m] + gam * (err * pu[u] - lam * qm[m])\n",
    "    \n",
    "    svd_params = (rating_mean, bu, bm, pu, qm)\n",
    "    return svd_params\n",
    "\n",
    "def predict(test, svd_params, min_value, max_value):\n",
    "    rating_mean, bu, bm, pu, qm = svd_params\n",
    "    pred = []\n",
    "    for u, m in test:\n",
    "        r = rating_mean + bu[u] + bm[m] + np.dot(pu[u], qm[m])\n",
    "        r = max(min_value, min(r, max_value))\n",
    "        pred.append(r)\n",
    "    return pred \n",
    "\n",
    "# pipeline \n",
    "train, test, rating_mean, n_users, n_movies, max_value = load()\n",
    "svd_params = fit_svd(train, rating_mean, n_users, n_movies)\n",
    "pred = predict(test, svd_params, 2, max_value)\n",
    "print(*pred, sep='\\n')"
   ]
  }
 ],
 "metadata": {
  "kernelspec": {
   "display_name": "Python 3",
   "language": "python",
   "name": "python3"
  },
  "language_info": {
   "codemirror_mode": {
    "name": "ipython",
    "version": 3
   },
   "file_extension": ".py",
   "mimetype": "text/x-python",
   "name": "python",
   "nbconvert_exporter": "python",
   "pygments_lexer": "ipython3",
   "version": "3.6.1"
  }
 },
 "nbformat": 4,
 "nbformat_minor": 2
}
