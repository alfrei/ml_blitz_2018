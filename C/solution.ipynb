{
 "cells": [
  {
   "cell_type": "code",
   "execution_count": 46,
   "metadata": {
    "collapsed": true
   },
   "outputs": [],
   "source": [
    "import pandas as pd\n",
    "\n",
    "from sklearn.feature_extraction.text import TfidfVectorizer\n",
    "from sklearn import metrics\n",
    "from sklearn.pipeline import Pipeline, TransformerMixin, FeatureUnion\n",
    "from sklearn.base import BaseEstimator\n",
    "\n",
    "from lightgbm import LGBMClassifier\n",
    "\n",
    "import warnings\n",
    "warnings.filterwarnings('ignore')"
   ]
  },
  {
   "cell_type": "code",
   "execution_count": 47,
   "metadata": {
    "collapsed": true
   },
   "outputs": [],
   "source": [
    "class ColumnSelector(BaseEstimator, TransformerMixin):\n",
    "    def __init__(self, columns):\n",
    "        self.columns = columns\n",
    "\n",
    "    def fit(self, X, y=None):\n",
    "        return self\n",
    "\n",
    "    def transform(self, X):\n",
    "        return X[self.columns]"
   ]
  },
  {
   "cell_type": "code",
   "execution_count": 48,
   "metadata": {},
   "outputs": [],
   "source": [
    "data_train = pd.read_csv('fr_learn.tsv', sep='\\t')\n",
    "data_test = pd.read_csv('fr_test.tsv', sep='\\t')\n",
    "data = pd.concat((data_train, data_test), sort=False)\n",
    "data['train'] = data.fresh_click.notnull()\n",
    "data['timestamp'] = pd.to_datetime(data.timestamp, unit='s')\n",
    "data['day'] = data.timestamp.dt.day\n",
    "data['hour'] = data.timestamp.dt.hour\n",
    "data['minute'] = data.timestamp.dt.minute"
   ]
  },
  {
   "cell_type": "code",
   "execution_count": 49,
   "metadata": {},
   "outputs": [
    {
     "data": {
      "text/plain": [
       "0.16634100756095488"
      ]
     },
     "execution_count": 49,
     "metadata": {},
     "output_type": "execute_result"
    }
   ],
   "source": [
    "pipeline_without_text  = Pipeline([\n",
    "    ('columns', ColumnSelector(['requests_per_prev_1_hour', 'requests_per_prev_2_hour',\n",
    "                                'requests_per_prev_6_hour', 'requests_per_prev_12_hour', \n",
    "                                'requests_per_prev_24_hour', 'requests_per_prev_72_hour', \n",
    "                                'hour', 'minute'])),\n",
    "    ('clf', LGBMClassifier(n_estimators=100, class_weight='balanced'))\n",
    "])\n",
    "\n",
    "X_train = data[data.day < 29]\n",
    "y_train = data[data.day < 29].fresh_click\n",
    "X_test = data[data.day == 29].dropna()\n",
    "y_test = data[data.day == 29].dropna().fresh_click\n",
    "\n",
    "pipeline_without_text.fit(X_train, y_train)\n",
    "predicted = pipeline_without_text.predict(X_test)\n",
    "metrics.f1_score(y_test, predicted)"
   ]
  },
  {
   "cell_type": "code",
   "execution_count": 50,
   "metadata": {},
   "outputs": [
    {
     "data": {
      "text/plain": [
       "0.28656748253612757"
      ]
     },
     "execution_count": 50,
     "metadata": {},
     "output_type": "execute_result"
    }
   ],
   "source": [
    "pipeline_with_tfidf  = Pipeline([\n",
    "    ('features', FeatureUnion([\n",
    "        ('tfidf', \n",
    "          Pipeline([\n",
    "                ('selector', ColumnSelector('query')),\n",
    "                ('tfidf', TfidfVectorizer(token_pattern=r'\\b\\d+\\b')),\n",
    "            ])),\n",
    "        ('columns', ColumnSelector(['requests_per_prev_1_hour', 'requests_per_prev_2_hour',\n",
    "                                    'requests_per_prev_6_hour', 'requests_per_prev_12_hour', \n",
    "                                    'requests_per_prev_24_hour', 'requests_per_prev_72_hour', \n",
    "                                    'hour', 'minute']))])),\n",
    "    ('clf', LGBMClassifier(n_estimators=100, class_weight='balanced'))\n",
    "])\n",
    "\n",
    "pipeline_with_tfidf.fit(X_train, y_train)\n",
    "predicted = pipeline_with_tfidf.predict(X_test)\n",
    "metrics.f1_score(y_test, predicted)"
   ]
  },
  {
   "cell_type": "code",
   "execution_count": 51,
   "metadata": {},
   "outputs": [],
   "source": [
    "train = data[data['train']]\n",
    "test = data[~data['train']]\n",
    "\n",
    "pipeline_with_tfidf.fit(train, train.fresh_click)\n",
    "predicted = pipeline_with_tfidf.predict(test)"
   ]
  },
  {
   "cell_type": "code",
   "execution_count": 52,
   "metadata": {},
   "outputs": [],
   "source": [
    "predicted = predicted.astype(int)"
   ]
  },
  {
   "cell_type": "code",
   "execution_count": 53,
   "metadata": {
    "collapsed": true
   },
   "outputs": [],
   "source": [
    "fout = open('detector.tsv', 'w')\n",
    "for p in predicted:\n",
    "    fout.write(str(p)+'\\n')\n",
    "fout.close()"
   ]
  },
  {
   "cell_type": "code",
   "execution_count": null,
   "metadata": {
    "collapsed": true
   },
   "outputs": [],
   "source": []
  }
 ],
 "metadata": {
  "kernelspec": {
   "display_name": "Python 3",
   "language": "python",
   "name": "python3"
  },
  "language_info": {
   "codemirror_mode": {
    "name": "ipython",
    "version": 3
   },
   "file_extension": ".py",
   "mimetype": "text/x-python",
   "name": "python",
   "nbconvert_exporter": "python",
   "pygments_lexer": "ipython3",
   "version": "3.6.1"
  }
 },
 "nbformat": 4,
 "nbformat_minor": 2
}
