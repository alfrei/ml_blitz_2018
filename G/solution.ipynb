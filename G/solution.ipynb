{
 "cells": [
  {
   "cell_type": "code",
   "execution_count": 326,
   "metadata": {
    "collapsed": true
   },
   "outputs": [],
   "source": [
    "import random\n",
    "import numpy as np \n",
    "import matplotlib.pyplot as plt \n",
    "%matplotlib inline "
   ]
  },
  {
   "cell_type": "code",
   "execution_count": 327,
   "metadata": {
    "collapsed": true
   },
   "outputs": [],
   "source": [
    "def RandomPermutation():  \n",
    "    perm = list(range(8))  \n",
    "    random.shuffle(perm)  \n",
    "    return perm  \n",
    " \n",
    "def StupidPermutation():  \n",
    "    partialSums = [0,1,8,35,111,285,\n",
    "        628,1230,2191,3606,5546,8039,11056,14506,18242,  \n",
    "        22078,25814,29264,32281,34774,36714,38129,39090,  \n",
    "        39692,40035,40209,40285,40312,40319,40320]  \n",
    "    r = random.randint(0, partialSums[-1])\n",
    "    numInv = 0\n",
    "    while partialSums[numInv] < r:\n",
    "        numInv += 1\n",
    "    perm = list(range(8))\n",
    "    for step in range(numInv):\n",
    "        t1 = random.randint(0, 7) \n",
    "        t2 = random.randint(0, 7)  \n",
    "        perm[t1], perm[t2] = perm[t2], perm[t1]  \n",
    "    return perm"
   ]
  },
  {
   "cell_type": "code",
   "execution_count": 22,
   "metadata": {
    "collapsed": false
   },
   "outputs": [],
   "source": [
    "# load test data \n",
    "with open('permutations.in') as fin:\n",
    "    n = int(fin.readline().strip())\n",
    "    i = 1\n",
    "    data = []\n",
    "    block = []\n",
    "    while i < 1000  * n + 1:\n",
    "        perm = list(map(int, fin.readline().strip().split()))\n",
    "        block.append(perm)\n",
    "        if i % 1000 == 0:\n",
    "            data.append(block)\n",
    "            block = []\n",
    "        i += 1"
   ]
  },
  {
   "cell_type": "code",
   "execution_count": 45,
   "metadata": {
    "collapsed": false
   },
   "outputs": [
    {
     "data": {
      "text/plain": [
       "(200, 1000, 8)"
      ]
     },
     "execution_count": 45,
     "metadata": {},
     "output_type": "execute_result"
    }
   ],
   "source": [
    "test = np.array(data)\n",
    "test.shape"
   ]
  },
  {
   "cell_type": "code",
   "execution_count": 37,
   "metadata": {
    "collapsed": false
   },
   "outputs": [],
   "source": [
    "# generating train data ~1min\n",
    "train = []\n",
    "for i in range(1000000):\n",
    "    train.append(RandomPermutation())\n",
    "for i in range(1000000):\n",
    "    train.append(StupidPermutation())\n",
    "    \n",
    "labels = [0] * int(1e6) + [1] * int(1e6)\n",
    "X = np.array(train)\n",
    "y = np.array(labels)\n",
    "\n",
    "X_blocks = X.reshape(-1, 1000, 8)\n",
    "y_blocks = np.array([0] * 1000 + [1] * 1000)"
   ]
  },
  {
   "cell_type": "code",
   "execution_count": 328,
   "metadata": {
    "collapsed": false
   },
   "outputs": [
    {
     "data": {
      "text/plain": [
       "(2000, 1000, 8)"
      ]
     },
     "execution_count": 328,
     "metadata": {},
     "output_type": "execute_result"
    }
   ],
   "source": [
    "X_blocks.shape"
   ]
  },
  {
   "cell_type": "code",
   "execution_count": 329,
   "metadata": {
    "collapsed": false
   },
   "outputs": [],
   "source": [
    "def count_num_in_pos(block):\n",
    "    \"\"\" return sum of i number in i position \"\"\"\n",
    "    s = 0\n",
    "    for i in range(8):\n",
    "        s += (block[:, i] == i).sum()\n",
    "    return s\n",
    "\n",
    "fe_nums_in_pos = np.zeros(2000)\n",
    "for i, block in enumerate(X_blocks):\n",
    "    fe_nums_in_pos[i] = count_num_in_pos(block)"
   ]
  },
  {
   "cell_type": "code",
   "execution_count": 342,
   "metadata": {
    "collapsed": false
   },
   "outputs": [
    {
     "data": {
      "image/png": "[encoded data removed]",
      "text/plain": [
       "<matplotlib.figure.Figure at 0x43e2e6a0>"
      ]
     },
     "metadata": {},
     "output_type": "display_data"
    }
   ],
   "source": [
    "plt.hist(fe_nums_in_pos[:1000], color='red', label=\"random\")\n",
    "plt.hist(fe_nums_in_pos[1000:], label=\"stupid\")\n",
    "plt.title(\"sum of numbers in its position distribution\")\n",
    "plt.legend();"
   ]
  },
  {
   "cell_type": "code",
   "execution_count": 331,
   "metadata": {
    "collapsed": false
   },
   "outputs": [
    {
     "name": "stdout",
     "output_type": "stream",
     "text": [
      "random: 999.0310 +- 91.5807\n",
      "stupid: 1182.9230 +- 101.3881\n"
     ]
    },
    {
     "data": {
      "text/plain": [
       "1997"
      ]
     },
     "execution_count": 331,
     "metadata": {},
     "output_type": "execute_result"
    }
   ],
   "source": [
    "print(\"random: {:.4f} +- {:.4f}\".format(fe_nums_in_pos[:1000].mean(), 3*fe_nums_in_pos[:1000].std()))\n",
    "print(\"stupid: {:.4f} +- {:.4f}\".format(fe_nums_in_pos[1000:].mean(), 3*fe_nums_in_pos[1000:].std()))\n",
    "((fe_nums_in_pos > 1080) == y_blocks).sum()"
   ]
  },
  {
   "cell_type": "code",
   "execution_count": 332,
   "metadata": {
    "collapsed": false
   },
   "outputs": [
    {
     "data": {
      "text/plain": [
       "(1090.6117204110121, 1081.5349354213722)"
      ]
     },
     "execution_count": 332,
     "metadata": {},
     "output_type": "execute_result"
    }
   ],
   "source": [
    "fe_nums_in_pos[:1000].mean() + 3*fe_nums_in_pos[:1000].std(), fe_nums_in_pos[1000:].mean() - 3*fe_nums_in_pos[1000:].std()"
   ]
  },
  {
   "cell_type": "code",
   "execution_count": 333,
   "metadata": {
    "collapsed": false
   },
   "outputs": [],
   "source": [
    "# predict test \n",
    "random_tests = []\n",
    "stupid_tests = []\n",
    "nums_in_pos = np.zeros(200)\n",
    "\n",
    "for i, block in enumerate(test):\n",
    "    pred_nums = count_num_in_pos(block)\n",
    "    nums_in_pos[i] = pred_nums\n",
    "    if pred_nums > 1085:\n",
    "        stupid_tests.append(i)\n",
    "    else:\n",
    "        random_tests.append(i)\n",
    "\n",
    "out = random_tests + stupid_tests\n",
    "\n",
    "fout = open(\"answer.txt\", \"w\")\n",
    "for i in out[:-1]:\n",
    "    fout.write(str(i)+'\\n')\n",
    "fout.write(str(out[-1]))\n",
    "fout.close()"
   ]
  },
  {
   "cell_type": "code",
   "execution_count": 345,
   "metadata": {
    "collapsed": false
   },
   "outputs": [
    {
     "data": {
      "text/plain": [
       "<matplotlib.text.Text at 0x21a02c18>"
      ]
     },
     "execution_count": 345,
     "metadata": {},
     "output_type": "execute_result"
    },
    {
     "data": {
      "image/png": "[encoded data removed]",
      "text/plain": [
       "<matplotlib.figure.Figure at 0x4460f390>"
      ]
     },
     "metadata": {},
     "output_type": "display_data"
    }
   ],
   "source": [
    "plt.hist(nums_in_pos[nums_in_pos>1085], color='red')\n",
    "plt.hist(nums_in_pos[nums_in_pos<=1085])\n",
    "plt.title(\"Distribution same as below\")"
   ]
  },
  {
   "cell_type": "code",
   "execution_count": null,
   "metadata": {
    "collapsed": true
   },
   "outputs": [],
   "source": []
  }
 ],
 "metadata": {
  "kernelspec": {
   "display_name": "Python 3",
   "language": "python",
   "name": "python3"
  },
  "language_info": {
   "codemirror_mode": {
    "name": "ipython",
    "version": 3
   },
   "file_extension": ".py",
   "mimetype": "text/x-python",
   "name": "python",
   "nbconvert_exporter": "python",
   "pygments_lexer": "ipython3",
   "version": "3.5.2"
  }
 },
 "nbformat": 4,
 "nbformat_minor": 2
}
