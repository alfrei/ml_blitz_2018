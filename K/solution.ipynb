{
 "cells": [
  {
   "cell_type": "code",
   "execution_count": 4,
   "metadata": {
    "collapsed": true
   },
   "outputs": [],
   "source": [
    "import sys\n",
    "from math import log"
   ]
  },
  {
   "cell_type": "code",
   "execution_count": 41,
   "metadata": {
    "collapsed": true
   },
   "outputs": [],
   "source": [
    "# make test\n",
    "with open('test1.txt', 'w') as test:\n",
    "    test.write('500000\\n')\n",
    "    for i in range(500000):\n",
    "        test.write(str(np.random.randint(100000)) + '\\n')"
   ]
  },
  {
   "cell_type": "code",
   "execution_count": 67,
   "metadata": {},
   "outputs": [
    {
     "name": "stdout",
     "output_type": "stream",
     "text": [
      "peak memory: 110.46 MiB, increment: 3.50 MiB\n"
     ]
    }
   ],
   "source": [
    "# naive (memory limit)\n",
    "unique_queries = set()\n",
    "\n",
    "test = open('test1.txt') # sys.stdin\n",
    "n = int(test.readline().strip())\n",
    "for line in test:\n",
    "    unique_queries.add(line.strip())\n",
    "test.close()\n",
    "\n",
    "n, len(unique_queries)"
   ]
  },
  {
   "cell_type": "code",
   "execution_count": 75,
   "metadata": {},
   "outputs": [
    {
     "name": "stdout",
     "output_type": "stream",
     "text": [
      "97820\n"
     ]
    }
   ],
   "source": [
    "# HyperLogLog\n",
    "\n",
    "class HLL(object):\n",
    "    \"\"\" \n",
    "    HyperLogLog\n",
    "    source: https://github.com/clarkduvall/hypy\n",
    "    paper:  http://algo.inria.fr/flajolet/Publications/FlFuGaMe07.pdf\n",
    "    \"\"\"\n",
    "    P32 = 2 ** 32\n",
    "\n",
    "    def __init__(self, p=14):\n",
    "        self.p, self.m, self.r = p, 1 << p, [0] * (1 << p)\n",
    "\n",
    "    def add(self, x):\n",
    "        x = hash(x)\n",
    "        i = x & HLL.P32 - 1 >> 32 - self.p\n",
    "        z = 35 - len(bin(HLL.P32 - 1 & x << self.p | 1 << self.p - 1))\n",
    "        self.r[i] = max(self.r[i], z)\n",
    "\n",
    "    def count(self):\n",
    "        a = ({16: 0.673, 32: 0.697, 64: 0.709}[self.m]\n",
    "             if self.m <= 64 else 0.7213 / (1 + 1.079 / self.m))\n",
    "        e = a * self.m * self.m / sum(1.0 / (1 << x) for x in self.r)\n",
    "        if e <= self.m * 2.5:\n",
    "            z = len([r for r in self.r if not r])\n",
    "            return int(self.m * log(float(self.m) / z) if z else e)\n",
    "        return int(e if e < HLL.P32 / 30 else -HLL.P32 * log(1 - e / HLL.P32))\n",
    "\n",
    "def read_stdin():\n",
    "    \"\"\" stdin generator reader \"\"\"\n",
    "    readline = sys.stdin.readline()\n",
    "    while readline:\n",
    "        yield readline\n",
    "        readline = sys.stdin.readline()\n",
    "        \n",
    "def read_stdin(file):\n",
    "    \"\"\" file generator reader (for test) \"\"\"\n",
    "    readline = file.readline().strip()\n",
    "    while readline:\n",
    "        yield readline\n",
    "        readline = file.readline().strip()        \n",
    "\n",
    "h = HLL()\n",
    "\n",
    "test = open('test1.txt') # sys.stdin\n",
    "n = int(test.readline().strip())\n",
    "for line in read_stdin(test):\n",
    "    # Add twice to make sure it only gets counted once.\n",
    "    h.add(hash(line))\n",
    "    h.add(hash(line))\n",
    "test.close()\n",
    "\n",
    "print(h.count())"
   ]
  }
 ],
 "metadata": {
  "kernelspec": {
   "display_name": "Python 3",
   "language": "python",
   "name": "python3"
  },
  "language_info": {
   "codemirror_mode": {
    "name": "ipython",
    "version": 3
   },
   "file_extension": ".py",
   "mimetype": "text/x-python",
   "name": "python",
   "nbconvert_exporter": "python",
   "pygments_lexer": "ipython3",
   "version": "3.6.1"
  }
 },
 "nbformat": 4,
 "nbformat_minor": 2
}
