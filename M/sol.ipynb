{
 "cells": [
  {
   "cell_type": "code",
   "execution_count": null,
   "metadata": {
    "collapsed": true
   },
   "outputs": [],
   "source": [
    "# source:\n",
    "# https://github.com/stas-sl/yandex-blitz-ml-2018/blob/master/m.py"
   ]
  },
  {
   "cell_type": "code",
   "execution_count": 17,
   "metadata": {
    "collapsed": true
   },
   "outputs": [],
   "source": [
    "import numpy as np"
   ]
  },
  {
   "cell_type": "code",
   "execution_count": 18,
   "metadata": {
    "collapsed": true
   },
   "outputs": [],
   "source": [
    "fin = open('input.txt')\n",
    "n, m = map(int, fin.readline().split())\n",
    "a = np.array([list(map(int, fin.readline().split())) for i in range(m)], ndmin=2)\n",
    "fin.close()"
   ]
  },
  {
   "cell_type": "code",
   "execution_count": 19,
   "metadata": {
    "collapsed": true
   },
   "outputs": [],
   "source": [
    "w = np.ones(n)\n",
    "x = np.zeros((m, n))\n",
    "\n",
    "if m >= 1:\n",
    "    x[np.arange(m), a[:, 0] - 1] = 1\n",
    "    x[np.arange(m), a[:, 1] - 1] = -1"
   ]
  },
  {
   "cell_type": "code",
   "execution_count": 20,
   "metadata": {},
   "outputs": [
    {
     "name": "stdout",
     "output_type": "stream",
     "text": [
      "1 2 3 4 5\n"
     ]
    }
   ],
   "source": [
    "v = np.zeros_like(w)\n",
    "for i in range(1000):        \n",
    "    z = w @ x.T\n",
    "    h = 1 / (1 + np.exp(-z))\n",
    "    gradient = x.T @ (h - 1) / m\n",
    "    v = 0.99 * v + gradient\n",
    "    w -= v\n",
    "    \n",
    "#     if i < 10:\n",
    "#         print('-'*100)\n",
    "#         print(\"i:\", i)\n",
    "#         print(\"z:\", z)\n",
    "#         print(\"sigm:\", h)\n",
    "#         print(\"gradient:\", gradient)\n",
    "#         print(\"v:\", v)\n",
    "#         print(\"w:\", w)    \n",
    "\n",
    "print(*(w.argsort()[::-1] + 1))"
   ]
  },
  {
   "cell_type": "code",
   "execution_count": null,
   "metadata": {
    "collapsed": true
   },
   "outputs": [],
   "source": []
  }
 ],
 "metadata": {
  "kernelspec": {
   "display_name": "Python 3",
   "language": "python",
   "name": "python3"
  },
  "language_info": {
   "codemirror_mode": {
    "name": "ipython",
    "version": 3
   },
   "file_extension": ".py",
   "mimetype": "text/x-python",
   "name": "python",
   "nbconvert_exporter": "python",
   "pygments_lexer": "ipython3",
   "version": "3.6.1"
  }
 },
 "nbformat": 4,
 "nbformat_minor": 2
}
