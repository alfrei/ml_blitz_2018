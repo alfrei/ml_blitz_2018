{
 "cells": [
  {
   "cell_type": "code",
   "execution_count": 1,
   "metadata": {
    "collapsed": true
   },
   "outputs": [],
   "source": [
    "import numpy as np"
   ]
  },
  {
   "cell_type": "code",
   "execution_count": 2,
   "metadata": {
    "collapsed": true
   },
   "outputs": [],
   "source": [
    "def read_data(file):\n",
    "    with open(file, 'r') as fin:\n",
    "        n = int(fin.readline().strip())\n",
    "        data = []\n",
    "        unique_labels = set()\n",
    "        for i, line in enumerate(fin.readlines()):\n",
    "            label, proba = map(float, line.strip().split())\n",
    "            data.append((proba, label))\n",
    "            unique_labels.add(label)\n",
    "    probas, labels = zip(*sorted(data, reverse=True))\n",
    "    unique_labels = sorted(list(unique_labels), reverse=True)\n",
    "    return labels, probas, unique_labels\n",
    "\n",
    "def calc_eq_sum(l):\n",
    "    i = 0\n",
    "    s = 0\n",
    "    while i < len(l) - 1:\n",
    "        s += l[i] * np.sum(l[i+1:])\n",
    "        i += 1\n",
    "    return s\n",
    "\n",
    "def calc_delta_sum(lb_total, lb_equal, idx):\n",
    "    return np.sum(lb_total[:idx] - lb_equal[:idx])\n",
    "\n",
    "def multiclass_auc(labels, probas, unique_labels):\n",
    "    \n",
    "    labels_id = {}\n",
    "    for i, l in zip(range(len(unique_labels)), unique_labels):\n",
    "        labels_id[l] = i\n",
    "\n",
    "    n_labels = len(unique_labels)\n",
    "    lb_equal = np.zeros(n_labels)\n",
    "    lb_total = np.zeros(n_labels)\n",
    "    pr_prev = None\n",
    "    a = 0\n",
    "\n",
    "    for lb, pr in zip(labels, probas):\n",
    "        if pr != pr_prev:\n",
    "            a += calc_eq_sum(lb_equal) / 2\n",
    "            lb_equal = np.zeros(n_labels)\n",
    "            lb_equal[labels_id[lb]] = 1\n",
    "            pr_prev = pr\n",
    "        else:\n",
    "            lb_equal[labels_id[lb]] += 1\n",
    "        lb_total[labels_id[lb]] += 1\n",
    "        a += calc_delta_sum(lb_total, lb_equal, labels_id[lb])\n",
    "        #print(lb, pr, lb_total, lb_equal, a)\n",
    "\n",
    "    a += calc_eq_sum(lb_equal) / 2\n",
    "\n",
    "    b = 0\n",
    "    for i in range(n_labels-1):\n",
    "        cur = lb_total[i]\n",
    "        b += cur * sum(lb_total[i+1:])\n",
    "\n",
    "    return a / b"
   ]
  },
  {
   "cell_type": "code",
   "execution_count": 1,
   "metadata": {
    "collapsed": true
   },
   "outputs": [],
   "source": [
    "def main():\n",
    "    labels, probas, unique_labels = read_data('random_test.txt')\n",
    "    auc_score = multiclass_auc(labels, probas, unique_labels)\n",
    "    fout = open(\"./output.txt\", \"w\")\n",
    "    fout.write(\"{:.6f}\".format(auc_score))\n",
    "    fout.close()\n",
    "    print(auc_score)"
   ]
  },
  {
   "cell_type": "code",
   "execution_count": 4,
   "metadata": {
    "collapsed": true
   },
   "outputs": [],
   "source": [
    "main()"
   ]
  },
  {
   "cell_type": "code",
   "execution_count": null,
   "metadata": {
    "collapsed": true
   },
   "outputs": [],
   "source": []
  }
 ],
 "metadata": {
  "kernelspec": {
   "display_name": "Python 3",
   "language": "python",
   "name": "python3"
  },
  "language_info": {
   "codemirror_mode": {
    "name": "ipython",
    "version": 3
   },
   "file_extension": ".py",
   "mimetype": "text/x-python",
   "name": "python",
   "nbconvert_exporter": "python",
   "pygments_lexer": "ipython3",
   "version": "3.6.1"
  }
 },
 "nbformat": 4,
 "nbformat_minor": 2
}
