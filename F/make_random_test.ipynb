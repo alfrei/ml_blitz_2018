{
 "cells": [
  {
   "cell_type": "code",
   "execution_count": 2,
   "metadata": {},
   "outputs": [],
   "source": [
    "import numpy as np\n",
    "\n",
    "def make_test_data(n, seed):\n",
    "    np.random.seed(seed)\n",
    "    t = np.random.randint(10, size=n)\n",
    "    y = np.random.randint(10000, size=n)\n",
    "    with open(\"./random_test.txt\", \"w\") as rtest:\n",
    "        rtest.write(str(n)+'\\n')\n",
    "        for ti, yi in zip(t, y):\n",
    "            rtest.write(\"{:d} {:d}\".format(ti, yi) + '\\n')\n",
    "            \n",
    "make_test_data(100000, 5)"
   ]
  }
 ],
 "metadata": {
  "kernelspec": {
   "display_name": "Python 3",
   "language": "python",
   "name": "python3"
  },
  "language_info": {
   "codemirror_mode": {
    "name": "ipython",
    "version": 3
   },
   "file_extension": ".py",
   "mimetype": "text/x-python",
   "name": "python",
   "nbconvert_exporter": "python",
   "pygments_lexer": "ipython3",
   "version": "3.6.1"
  }
 },
 "nbformat": 4,
 "nbformat_minor": 2
}
