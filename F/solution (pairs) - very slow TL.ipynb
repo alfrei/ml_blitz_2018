{
 "cells": [
  {
   "cell_type": "code",
   "execution_count": 1,
   "metadata": {
    "collapsed": true
   },
   "outputs": [],
   "source": [
    "from itertools import combinations\n",
    "import numpy as np"
   ]
  },
  {
   "cell_type": "code",
   "execution_count": 2,
   "metadata": {
    "collapsed": true
   },
   "outputs": [],
   "source": [
    "\n",
    "def read_data(file):\n",
    "    with open(file, 'r') as fin:\n",
    "        n = int(fin.readline().strip())\n",
    "        data = []\n",
    "        unique_labels = set()\n",
    "        for i, line in enumerate(fin.readlines()):\n",
    "            label, proba = map(float, line.strip().split())\n",
    "            data.append((proba, label))\n",
    "            unique_labels.add(label)\n",
    "    data = np.array(sorted(data, reverse=True))\n",
    "    pairs = combinations(unique_labels, 2)\n",
    "    labels = data[:, 1]\n",
    "    probas = data[:, 0]\n",
    "    return labels, probas, pairs\n",
    "\n",
    "def trapezoid_area(x1,x2,y1,y2):\n",
    "    base = np.abs(x1 - x2)\n",
    "    av_height = (y1 + y2) / 2\n",
    "    return base * av_height\n",
    "\n",
    "def auc(l, f, p, n, pos_label):\n",
    "    \"\"\" \n",
    "    calculating the area under ROC curve\n",
    "    https://ccrma.stanford.edu/workshops/mir2009/references/ROCintro.pdf\n",
    "    l -- labels\n",
    "    f -- probabilities of pos labels\n",
    "    p -- number of pos labels\n",
    "    n -- number of neg labels\n",
    "    \"\"\"\n",
    "    #f, l = zip(*sorted(zip(f, l), reverse=True)) # decreasing sort by f\n",
    "    #pos_label = np.max(l)\n",
    "    fp = tp = 0.\n",
    "    fp_prev = tp_prev = 0.\n",
    "    a = 0.\n",
    "    f_prev = None\n",
    "    for i in range(len(l)):\n",
    "        if f[i] != f_prev:\n",
    "            a += trapezoid_area(fp, fp_prev, tp, tp_prev)\n",
    "            f_prev = f[i]\n",
    "            fp_prev = fp\n",
    "            tp_prev = tp\n",
    "        if l[i] == pos_label:\n",
    "            tp += 1\n",
    "        else:\n",
    "            fp += 1\n",
    "    a += trapezoid_area(n, fp_prev, p, tp_prev)\n",
    "    return a, p * n\n",
    "\n",
    "def multiclass_auc(labels, probas, pairs):\n",
    "\n",
    "    numerator = 0.\n",
    "    denominator = 0.\n",
    "\n",
    "    for l0, l1 in pairs:\n",
    "\n",
    "        m0 = labels == l0\n",
    "        m1 = labels == l1\n",
    "        mask = m0 | m1\n",
    "        \n",
    "        lm = labels[mask].tolist()\n",
    "        pm = probas[mask].tolist()\n",
    "\n",
    "        num, den = auc(lm, pm, m1.sum(), m0.sum(), l1)\n",
    "        numerator += num\n",
    "        denominator += den\n",
    "\n",
    "    return numerator / denominator\n",
    "\n"
   ]
  },
  {
   "cell_type": "code",
   "execution_count": 3,
   "metadata": {
    "collapsed": true
   },
   "outputs": [],
   "source": []
  },
  {
   "cell_type": "code",
   "execution_count": 15,
   "metadata": {
    "collapsed": true
   },
   "outputs": [],
   "source": [
    "def main():\n",
    "    file = './random_test.txt'\n",
    "    labels, probas, pairs = read_data(file)\n",
    "    auc_score = multiclass_auc(labels, probas, pairs)\n",
    "    fout = open(\"./output.txt\", \"w\")\n",
    "    fout.write(\"{:.6f}\".format(auc_score))\n",
    "    fout.close()"
   ]
  },
  {
   "cell_type": "code",
   "execution_count": 16,
   "metadata": {
    "collapsed": true
   },
   "outputs": [],
   "source": [
    "main()"
   ]
  },
  {
   "cell_type": "code",
   "execution_count": null,
   "metadata": {
    "collapsed": true
   },
   "outputs": [],
   "source": []
  }
 ],
 "metadata": {
  "kernelspec": {
   "display_name": "Python 3",
   "language": "python",
   "name": "python3"
  },
  "language_info": {
   "codemirror_mode": {
    "name": "ipython",
    "version": 3
   },
   "file_extension": ".py",
   "mimetype": "text/x-python",
   "name": "python",
   "nbconvert_exporter": "python",
   "pygments_lexer": "ipython3",
   "version": "3.6.1"
  }
 },
 "nbformat": 4,
 "nbformat_minor": 2
}
