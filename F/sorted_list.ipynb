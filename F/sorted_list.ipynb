{
 "cells": [
  {
   "cell_type": "code",
   "execution_count": 1,
   "metadata": {
    "collapsed": true
   },
   "outputs": [],
   "source": [
    "# source: \n",
    "# https://github.com/stas-sl/yandex-blitz-ml-2018/blob/master/f_sorted_naive.py\n",
    "from bisect import bisect_left, bisect_right"
   ]
  },
  {
   "cell_type": "code",
   "execution_count": 4,
   "metadata": {
    "collapsed": true
   },
   "outputs": [],
   "source": [
    "fin = open('input.txt')\n",
    "\n",
    "n = int(fin.readline())\n",
    "t, y = zip(*sorted(tuple(map(float, fin.readline().split())) for i in range(n)))\n",
    "y_sorted = sorted(y)\n",
    "\n",
    "fin.close()"
   ]
  },
  {
   "cell_type": "code",
   "execution_count": 5,
   "metadata": {},
   "outputs": [
    {
     "name": "stdout",
     "output_type": "stream",
     "text": [
      "[0.0, 1.0, 3.0]\n",
      "3 2.0 2 2\n",
      "4 4.0 3 3\n",
      "5 5.0 3 3\n",
      "6 6.0 3 3\n",
      "[]\n",
      "0 0.0 0 0\n",
      "1 1.0 0 0\n",
      "2 3.0 0 0\n",
      "0.9166666666666666\n"
     ]
    }
   ],
   "source": [
    "nom = denom = 0\n",
    "i = n - 1\n",
    "\n",
    "while i >= 0:\n",
    "    j = i\n",
    "    while j >= 0 and t[i] == t[j]:\n",
    "        l = bisect_left(y_sorted, y[j])\n",
    "        y_sorted.pop(l)\n",
    "        j -= 1\n",
    "    print(y_sorted)\n",
    "    for k in range(j + 1, i + 1):\n",
    "        l = bisect_left(y_sorted, y[k])\n",
    "        r = bisect_right(y_sorted, y[k])\n",
    "        print(k, y[k], l, r)\n",
    "        nom += l + (r - l) / 2\n",
    "        denom += j + 1    \n",
    "    i = j\n",
    "\n",
    "print(nom / denom)"
   ]
  },
  {
   "cell_type": "code",
   "execution_count": 12,
   "metadata": {},
   "outputs": [
    {
     "data": {
      "text/plain": [
       "(3, 4)"
      ]
     },
     "execution_count": 12,
     "metadata": {},
     "output_type": "execute_result"
    }
   ],
   "source": [
    "l = [0, 1, 1, 2]\n",
    "bisect_left(l, 2), bisect_right(l, 2)"
   ]
  }
 ],
 "metadata": {
  "kernelspec": {
   "display_name": "Python 3",
   "language": "python",
   "name": "python3"
  },
  "language_info": {
   "codemirror_mode": {
    "name": "ipython",
    "version": 3
   },
   "file_extension": ".py",
   "mimetype": "text/x-python",
   "name": "python",
   "nbconvert_exporter": "python",
   "pygments_lexer": "ipython3",
   "version": "3.6.1"
  }
 },
 "nbformat": 4,
 "nbformat_minor": 2
}
