{
 "cells": [
  {
   "cell_type": "code",
   "execution_count": 20,
   "metadata": {
    "collapsed": true
   },
   "outputs": [],
   "source": [
    "import pandas as pd\n",
    "import numpy as np\n",
    "import lightgbm as lg "
   ]
  },
  {
   "cell_type": "code",
   "execution_count": 9,
   "metadata": {},
   "outputs": [],
   "source": [
    "cd = pd.read_csv('./train.cd', sep='\\t', header=-1)\n",
    "data = pd.read_csv('./train.txt', sep='\\t', header=-1)"
   ]
  },
  {
   "cell_type": "code",
   "execution_count": 51,
   "metadata": {},
   "outputs": [],
   "source": [
    "y = data.iloc[:, 1].values\n",
    "X = data.iloc[:, 4:].values\n",
    "features = [str(i) for i in range(500)]"
   ]
  },
  {
   "cell_type": "markdown",
   "metadata": {},
   "source": [
    "Feature selection"
   ]
  },
  {
   "cell_type": "code",
   "execution_count": 99,
   "metadata": {
    "collapsed": true
   },
   "outputs": [],
   "source": [
    "# imitation of standard catboost parameters\n",
    "\n",
    "lg_params = {\n",
    "    'nthread': 4,\n",
    "    'objective': 'regression',\n",
    "    'metric': 'rmse',\n",
    "    'n_iterations': 200, \n",
    "    'learning_rate': 0.1,\n",
    "    'max_depth': 6,\n",
    "    'subsample': 0.66, \n",
    "    'bagging_freq': 1,\n",
    "    'feature_fraction': 1,\n",
    "}"
   ]
  },
  {
   "cell_type": "code",
   "execution_count": 100,
   "metadata": {},
   "outputs": [],
   "source": [
    "def lg_fit(lg_params, dstrain, dstest, verbose=10):\n",
    "    evals_results = {}\n",
    "    model = lg.train(lg_params, \n",
    "                     dstrain, \n",
    "                     valid_sets=[dstrain, dstest], \n",
    "                     valid_names=['train', 'test'], \n",
    "                     evals_result=evals_results, \n",
    "                     verbose_eval=verbose)\n",
    "    return model, evals_results\n",
    "\n",
    "def cost(q):\n",
    "    return 1 + 3*min(1, (1.4 - q)/0.15)\n",
    "\n",
    "def rmse(y, yhat):\n",
    "    return np.sqrt(np.mean(np.power(y.squeeze() - yhat.squeeze(), 2)))\n"
   ]
  },
  {
   "cell_type": "code",
   "execution_count": 101,
   "metadata": {},
   "outputs": [],
   "source": [
    "from sklearn.model_selection import KFold\n",
    "\n",
    "cv = KFold(5, random_state=42, shuffle=True)\n",
    "\n",
    "costs = np.zeros(5)\n",
    "errors = np.zeros(5)\n",
    "preds = np.zeros(X.shape[0])\n",
    "fi = np.zeros(500)\n",
    "for i, (train_idx, test_idx) in enumerate(cv.split(X)):\n",
    "    # fit model\n",
    "    X_train, y_train = X[train_idx], y[train_idx]\n",
    "    X_test, y_test = X[test_idx], y[test_idx]\n",
    "    dstrain = lg.Dataset(X_train, y_train, feature_name=features)\n",
    "    dstest = lg.Dataset(X_test, y_test, feature_name=features)    \n",
    "    model, history = lg_fit(lg_params, dstrain, dstest, verbose=0)\n",
    "    # predict\n",
    "    preds[test_idx] = model.predict(X_test)\n",
    "    errors[i] = rmse(preds[test_idx], y_test)\n",
    "    # update costs\n",
    "    q = history['test']['rmse'][model.best_iteration-1]\n",
    "    estimated_cost = cost(q)\n",
    "    costs[i] = estimated_cost\n",
    "    # feature importances\n",
    "    fi += model.feature_importance()"
   ]
  },
  {
   "cell_type": "code",
   "execution_count": 102,
   "metadata": {},
   "outputs": [
    {
     "name": "stdout",
     "output_type": "stream",
     "text": [
      "rmse: 1.353 +- 0.027\n",
      "cost: 1.939 +- 0.533\n"
     ]
    }
   ],
   "source": [
    "print(\"rmse: {:.3f} +- {:.3f}\".format(errors.mean(), errors.std()))\n",
    "print(\"cost: {:.3f} +- {:.3f}\".format(costs.mean(), costs.std()))"
   ]
  },
  {
   "cell_type": "code",
   "execution_count": 103,
   "metadata": {},
   "outputs": [],
   "source": [
    "# extract top features\n",
    "top1 = np.where(fi > 20)[0]\n",
    "top2 = np.where(fi > 30)[0]\n",
    "top3 = np.where(fi > 50)[0]"
   ]
  },
  {
   "cell_type": "markdown",
   "metadata": {},
   "source": [
    "Check different sets of features"
   ]
  },
  {
   "cell_type": "code",
   "execution_count": 104,
   "metadata": {},
   "outputs": [
    {
     "name": "stdout",
     "output_type": "stream",
     "text": [
      "top1\n",
      "rmse: 1.343 +- 0.023\n",
      "cost: 2.144 +- 0.456\n",
      "top2\n",
      "rmse: 1.293 +- 0.032\n",
      "cost: 3.101 +- 0.594\n",
      "top3\n",
      "rmse: 1.164 +- 0.020\n",
      "cost: 4.000 +- 0.000\n"
     ]
    }
   ],
   "source": [
    "def cv_top(X, y, features):\n",
    "\n",
    "    n_features = features.shape[0]\n",
    "    X = X[:, features]\n",
    "    feature_name = [str(f) for f in features]\n",
    "    \n",
    "    costs = np.zeros(5)\n",
    "    errors = np.zeros(5)\n",
    "    preds = np.zeros(X.shape[0])\n",
    "    fi = np.zeros(n_features)\n",
    "    for i, (train_idx, test_idx) in enumerate(cv.split(X)):\n",
    "        # fit model\n",
    "        X_train, y_train = X[train_idx], y[train_idx]\n",
    "        X_test, y_test = X[test_idx], y[test_idx]\n",
    "        dstrain = lg.Dataset(X_train, y_train, feature_name=feature_name)\n",
    "        dstest = lg.Dataset(X_test, y_test, feature_name=feature_name)\n",
    "        model, history = lg_fit(lg_params, dstrain, dstest, verbose=0)\n",
    "        # predict\n",
    "        preds[test_idx] = model.predict(X_test)\n",
    "        errors[i] = rmse(preds[test_idx], y_test)\n",
    "        # update costs\n",
    "        q = history['test']['rmse'][model.best_iteration-1]\n",
    "        estimated_cost = cost(q)\n",
    "        costs[i] = estimated_cost\n",
    "        # feature importances\n",
    "        fi += model.feature_importance()\n",
    "\n",
    "    print(\"rmse: {:.3f} +- {:.3f}\".format(errors.mean(), errors.std()))\n",
    "    print(\"cost: {:.3f} +- {:.3f}\".format(costs.mean(), costs.std()))\n",
    "    return fi\n",
    "\n",
    "print(\"top1\")\n",
    "fi_top1 = cv_top(X, y, top1)\n",
    "print(\"top2\")\n",
    "fi_top1 = cv_top(X, y, top2)\n",
    "print(\"top3\")\n",
    "fi_top1 = cv_top(X, y, top3)"
   ]
  },
  {
   "cell_type": "code",
   "execution_count": 105,
   "metadata": {},
   "outputs": [
    {
     "data": {
      "text/plain": [
       "'28 48 90 110 111 129 193 208 283 292 337 345 469 482'"
      ]
     },
     "execution_count": 105,
     "metadata": {},
     "output_type": "execute_result"
    }
   ],
   "source": [
    "' '.join(map(str, top3.tolist()))"
   ]
  }
 ],
 "metadata": {
  "kernelspec": {
   "display_name": "Python 3",
   "language": "python",
   "name": "python3"
  },
  "language_info": {
   "codemirror_mode": {
    "name": "ipython",
    "version": 3
   },
   "file_extension": ".py",
   "mimetype": "text/x-python",
   "name": "python",
   "nbconvert_exporter": "python",
   "pygments_lexer": "ipython3",
   "version": "3.6.1"
  }
 },
 "nbformat": 4,
 "nbformat_minor": 2
}
