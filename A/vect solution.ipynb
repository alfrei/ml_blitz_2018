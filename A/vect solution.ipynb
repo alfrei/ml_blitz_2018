{
 "cells": [
  {
   "cell_type": "code",
   "execution_count": 1,
   "metadata": {
    "collapsed": true
   },
   "outputs": [],
   "source": [
    "# vectorized solution \n",
    "# TL, not accepted\n",
    "\n",
    "import numpy as np\n",
    "\n",
    "def read_file():\n",
    "    fin = open('stump.in')\n",
    "    len_data = int(fin.readline().strip())\n",
    "    X = np.zeros(len_data)\n",
    "    y = np.zeros(len_data)\n",
    "    for i, line in enumerate(fin.readlines()):\n",
    "        xi, yi = [float(v) for v in line.strip().split()]\n",
    "        X[i], y[i] = xi, yi\n",
    "    fin.close()\n",
    "    # sort \n",
    "    sorted_id = np.argsort(X)\n",
    "    return X[sorted_id], y[sorted_id]\n",
    "\n",
    "def sse(y, yhat):\n",
    "    return np.sum(np.power(yhat-y, 2))\n",
    "\n",
    "def format_f(value):\n",
    "    return \"%.7f\" % value\n",
    "\n",
    "def stump():\n",
    "    X, y = read_file()\n",
    "\n",
    "    prior = y.mean()\n",
    "    min_sse = sse(y, prior)\n",
    "    best_params = 0, prior, X[0]\n",
    "    c_id = np.where(X[:-1] != X[1:])\n",
    "    c_vals = (X[:-1][c_id] + X[1:][c_id]) / 2\n",
    "\n",
    "    for c in c_vals:\n",
    "        mask = X<c\n",
    "        y_left, y_right = y[mask], y[~mask]\n",
    "        a, b = y_left.mean(), y_right.mean()\n",
    "        c_sse = sse(y_left, a) + sse(y_right, b)\n",
    "        if c_sse < min_sse: \n",
    "            best_params = a, b, c\n",
    "            min_sse = c_sse   \n",
    "        \n",
    "    with open('stump.out', 'w') as out:\n",
    "        out.write(' '.join(format_f(p) for p in best_params))\n",
    "        \n",
    "stump()"
   ]
  },
  {
   "cell_type": "code",
   "execution_count": null,
   "metadata": {
    "collapsed": true
   },
   "outputs": [],
   "source": []
  }
 ],
 "metadata": {
  "kernelspec": {
   "display_name": "Python 3",
   "language": "python",
   "name": "python3"
  },
  "language_info": {
   "codemirror_mode": {
    "name": "ipython",
    "version": 3
   },
   "file_extension": ".py",
   "mimetype": "text/x-python",
   "name": "python",
   "nbconvert_exporter": "python",
   "pygments_lexer": "ipython3",
   "version": "3.6.1"
  }
 },
 "nbformat": 4,
 "nbformat_minor": 2
}
