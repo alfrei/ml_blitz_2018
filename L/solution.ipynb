{
 "cells": [
  {
   "cell_type": "code",
   "execution_count": 13,
   "metadata": {
    "collapsed": true
   },
   "outputs": [],
   "source": [
    "import numpy as np\n",
    "import pandas as pd \n",
    "import lightgbm as lg\n",
    "from sklearn.preprocessing import LabelEncoder\n",
    "from sklearn.model_selection import train_test_split\n",
    "\n",
    "import re\n",
    "\n",
    "import warnings\n",
    "warnings.filterwarnings('ignore')\n",
    "\n",
    "from collections import defaultdict"
   ]
  },
  {
   "cell_type": "code",
   "execution_count": 2,
   "metadata": {
    "collapsed": true
   },
   "outputs": [],
   "source": [
    "def load():\n",
    "    train = pd.read_csv('./train.tsv', sep='\\t').iloc[:, 1:]\n",
    "    test  = pd.read_csv('./test.tsv', sep='\\t').iloc[:, 1:]\n",
    "    return train, test\n",
    "\n",
    "def loss(acc):\n",
    "    if acc <= 0.5: \n",
    "        return 0\n",
    "    else:\n",
    "        return 1 + 6 * (acc - 0.5)"
   ]
  },
  {
   "cell_type": "code",
   "execution_count": 3,
   "metadata": {},
   "outputs": [
    {
     "data": {
      "text/plain": [
       "(0.372952380952381, 0)"
      ]
     },
     "execution_count": 3,
     "metadata": {},
     "output_type": "execute_result"
    }
   ],
   "source": [
    "# simple delta classifier, baseline\n",
    "\n",
    "train, test = load()\n",
    "# delta: киллер-фича! (нет)\n",
    "train['delta_lat'] = np.abs(train.user_lat - train.lat)\n",
    "train['delta_lon'] = np.abs(train.user_lon - train.lon)\n",
    "\n",
    "\n",
    "X = []\n",
    "for group in train.groupby('group_num'):\n",
    "    X.append(group[1])\n",
    "\n",
    "acc = 0\n",
    "for g in X:\n",
    "    target = np.where(g.target)[0][0]\n",
    "    prediction = np.argmin(g.delta_lat.values + g.delta_lon.values)\n",
    "    if target == prediction: \n",
    "        acc += 1\n",
    "        \n",
    "acc /= len(X)\n",
    "acc, loss(acc)"
   ]
  },
  {
   "cell_type": "code",
   "execution_count": 4,
   "metadata": {
    "collapsed": true
   },
   "outputs": [],
   "source": [
    "def str_len(s):\n",
    "    return len(s)\n",
    "\n",
    "def str_parts(s, sep=','):\n",
    "    return len(s.split(sep))\n",
    "\n",
    "def list_len(s, sep='\", \"'):\n",
    "    return len(re.sub(\"[\\[\\]]\", \"\", s).strip('\"').split(sep))\n",
    "\n",
    "def calc_group_index(df, f):\n",
    "    group_mean = df.groupby('group_num')[f].mean().rename(f+'_mean').reset_index()\n",
    "    df[f+'_group_index'] = df[f] / df.merge(how='left', on='group_num', \n",
    "                                            right=group_mean)[f+'_mean']\n",
    "    #print(df.groupby('target').mean()[f])\n",
    "    #print(df.groupby('target').mean()[f+'_group_index'])\n",
    "    \n",
    "def lst0(s, sep='\", \"'):\n",
    "    l = re.sub(\"[\\[\\]]\", \"\", s).strip('\"').split(sep)\n",
    "    return l[0]\n"
   ]
  },
  {
   "cell_type": "code",
   "execution_count": 43,
   "metadata": {
    "collapsed": true
   },
   "outputs": [],
   "source": [
    "def feval(y_hat, y_true):\n",
    "    groups = feval_train.values if y_true.params['train'] else feval_test.values\n",
    "    targets = y_true.get_label()\n",
    "    max_pred = defaultdict(lambda: (-1, -1))\n",
    "    n = len(y_hat)\n",
    "    for i in range(n):\n",
    "        if max_pred[groups[i]][0] < y_hat[i]:\n",
    "            max_pred[groups[i]] = (y_hat[i], i)\n",
    "    acc = 0\n",
    "    for _, i in max_pred.values():\n",
    "        acc += targets[i]\n",
    "    acc /= len(max_pred)\n",
    "    return 'score', 1 + 6 * (acc - 0.5), True"
   ]
  },
  {
   "cell_type": "code",
   "execution_count": 44,
   "metadata": {
    "collapsed": true
   },
   "outputs": [],
   "source": [
    "def preprocessing(train, test):\n",
    "\n",
    "    # names\n",
    "    for df in [train, test]:\n",
    "        df['name_len_lst'] = df.names.apply(list_len)\n",
    "        df = calc_group_index(df, 'name_len_lst')\n",
    "    stat_feat = ['name_len_lst_group_index']\n",
    "       \n",
    "    # merge \n",
    "    y = train.target.values\n",
    "    train['train'] = 1\n",
    "    test['train'] = 0\n",
    "\n",
    "    data = pd.concat([train.drop(['target'], 1), test])\n",
    "    # delta\n",
    "    data['delta_lat'] = np.abs(data.user_lat - data.lat)\n",
    "    data['delta_lon'] = np.abs(data.user_lon - data.lon)\n",
    "    \n",
    "    # rubrics\n",
    "    data['rubrics0'] = data.rubrics.apply(lambda x: lst0(x, sep=',')).astype(int)\n",
    "    top_rubr = data.rubrics0.value_counts()\n",
    "    top_rubr = top_rubr[top_rubr > 10].index\n",
    "    data.rubrics0[~np.isin(data.rubrics0, top_rubr)] = -1\n",
    "    \n",
    "    # ssid \n",
    "    \n",
    "    \n",
    "    # features\n",
    "    features = {}\n",
    "    features['cat'] = ['has_wifi', 'publishing_status', 'rubrics0']\n",
    "    features['num'] = ['delta_lat', 'delta_lon'] + stat_feat\n",
    "    features['all'] = features['cat'] + features['num']\n",
    "    \n",
    "    # cat factorize\n",
    "    le = LabelEncoder()\n",
    "    data['publishing_status'] = le.fit_transform(data.publishing_status)\n",
    "    data['rubrics0'] = le.fit_transform(data.rubrics0)\n",
    "    data['has_wifi'] = data.has_wifi.fillna(-1).astype(int)\n",
    "    data['rubrics0'] = data.rubrics0.fillna(-1).astype(int)\n",
    "    \n",
    "    return data, y, features\n"
   ]
  },
  {
   "cell_type": "code",
   "execution_count": 45,
   "metadata": {
    "collapsed": true
   },
   "outputs": [],
   "source": [
    "# train\n",
    "\n",
    "train, test = load()\n",
    "data, y, features = preprocessing(train, test)\n",
    "\n",
    "X = data[data.train == 1][features['all']+['group_num']]\n",
    "groups = X.group_num\n",
    "train_groups = X.group_num < 4000\n",
    "feval_train = X.group_num[train_groups]\n",
    "feval_test = X.group_num[~train_groups]\n",
    "X.drop(['group_num'], 1, inplace=True)\n",
    "\n",
    "X_train, X_test = X[train_groups], X[~train_groups]\n",
    "y_train, y_test = y[train_groups], y[~train_groups]"
   ]
  },
  {
   "cell_type": "code",
   "execution_count": 49,
   "metadata": {},
   "outputs": [
    {
     "name": "stdout",
     "output_type": "stream",
     "text": [
      "[20]\ttraining's binary_logloss: 0.165336\ttraining's score: 1.9255\tvalid_1's binary_logloss: 0.183628\tvalid_1's score: 1.792\n",
      "[40]\ttraining's binary_logloss: 0.108086\ttraining's score: 2.3515\tvalid_1's binary_logloss: 0.128405\tvalid_1's score: 2.1568\n",
      "[60]\ttraining's binary_logloss: 0.0957319\ttraining's score: 2.434\tvalid_1's binary_logloss: 0.116762\tvalid_1's score: 2.2192\n",
      "[80]\ttraining's binary_logloss: 0.0912138\ttraining's score: 2.4745\tvalid_1's binary_logloss: 0.112827\tvalid_1's score: 2.2624\n",
      "[100]\ttraining's binary_logloss: 0.0884359\ttraining's score: 2.5075\tvalid_1's binary_logloss: 0.111003\tvalid_1's score: 2.3008\n",
      "[120]\ttraining's binary_logloss: 0.0867447\ttraining's score: 2.518\tvalid_1's binary_logloss: 0.109743\tvalid_1's score: 2.3152\n"
     ]
    }
   ],
   "source": [
    "dstrain = lg.Dataset(X_train, y_train, feature_name=features['all'], \n",
    "                     categorical_feature=features['cat'], params={'train': 1})\n",
    "dstest = lg.Dataset(X_test, y_test, feature_name=features['all'], \n",
    "                    categorical_feature=features['cat'], params={'train': 0})\n",
    "\n",
    "lg_params = {\n",
    "    'objective': 'binary', \n",
    "    #'scale_pos_weight': 20,\n",
    "    #'is_unbalance': True,\n",
    "    'n_estimators': 120, \n",
    "    'max_depth': 3, \n",
    "    'num_leaves': 7,\n",
    "    'subsamle': 0.9,\n",
    "    'subsample_freq': 1, \n",
    "    'feature_fraction': 0.9\n",
    "}\n",
    "\n",
    "model = lg.train(lg_params, dstrain, valid_sets=[dstrain, dstest], \n",
    "                 feval=feval, verbose_eval=20)"
   ]
  },
  {
   "cell_type": "code",
   "execution_count": 50,
   "metadata": {},
   "outputs": [
    {
     "data": {
      "text/plain": [
       "<matplotlib.axes._subplots.AxesSubplot at 0x7f2b43e97198>"
      ]
     },
     "execution_count": 50,
     "metadata": {},
     "output_type": "execute_result"
    },
    {
     "data": {
      "image/png": "[encoded data removed]",
      "text/plain": [
       "<matplotlib.figure.Figure at 0x7f2b43fcbe48>"
      ]
     },
     "metadata": {},
     "output_type": "display_data"
    }
   ],
   "source": [
    "%matplotlib inline\n",
    "lg.plot_importance(model)"
   ]
  },
  {
   "cell_type": "code",
   "execution_count": 12,
   "metadata": {},
   "outputs": [
    {
     "data": {
      "text/plain": [
       "(0.7168, 2.3007999999999997)"
      ]
     },
     "execution_count": 12,
     "metadata": {},
     "output_type": "execute_result"
    }
   ],
   "source": [
    "# train accuracy check \n",
    "\n",
    "test_pred = model.predict(X_test)\n",
    "test_groups = groups[groups >= 4000]\n",
    "test_acc = 0\n",
    "for i in np.unique(test_groups):\n",
    "    idx = np.where(test_groups==i)[0]\n",
    "    target = np.where(y_test[idx])[0][0]\n",
    "    pred = np.argmax(test_pred[idx])\n",
    "    if target == pred: \n",
    "        test_acc += 1\n",
    "test_acc /= len(np.unique(test_groups))\n",
    "test_acc, loss(test_acc)"
   ]
  },
  {
   "cell_type": "code",
   "execution_count": 13,
   "metadata": {
    "collapsed": true
   },
   "outputs": [],
   "source": [
    "# train on full data \n",
    "dstrain = lg.Dataset(X, y, feature_name=features['all'], categorical_feature=features['cat'])\n",
    "model = lg.train(lg_params, dstrain)"
   ]
  },
  {
   "cell_type": "code",
   "execution_count": 14,
   "metadata": {
    "collapsed": true
   },
   "outputs": [],
   "source": [
    "def predict(test, groups, model):\n",
    "    pred = model.predict(test)\n",
    "    output = []\n",
    "    for i in np.unique(groups):\n",
    "        g = groups==i\n",
    "        g_output = [0] * g.sum()\n",
    "        g_output[np.argmax(pred[g])] = 1\n",
    "        output += g_output\n",
    "    return output"
   ]
  },
  {
   "cell_type": "code",
   "execution_count": 15,
   "metadata": {
    "collapsed": true
   },
   "outputs": [],
   "source": [
    "# pipeline, public score = 2.61\n",
    "\n",
    "train, test = load()\n",
    "data, y, features = preprocessing(train, test)\n",
    "test = data[data.train == 0][features['all']+['group_num']]\n",
    "\n",
    "# predict \n",
    "groups = test.group_num\n",
    "test.drop(['group_num'], 1, inplace=True)\n",
    "output = predict(test, groups, model)\n",
    "\n",
    "# write \n",
    "pd.DataFrame(output).to_csv('target.tsv', sep='\\t', index=False, header=False)"
   ]
  },
  {
   "cell_type": "code",
   "execution_count": null,
   "metadata": {
    "collapsed": true
   },
   "outputs": [],
   "source": []
  }
 ],
 "metadata": {
  "kernelspec": {
   "display_name": "Python 3",
   "language": "python",
   "name": "python3"
  },
  "language_info": {
   "codemirror_mode": {
    "name": "ipython",
    "version": 3
   },
   "file_extension": ".py",
   "mimetype": "text/x-python",
   "name": "python",
   "nbconvert_exporter": "python",
   "pygments_lexer": "ipython3",
   "version": "3.6.1"
  }
 },
 "nbformat": 4,
 "nbformat_minor": 2
}
