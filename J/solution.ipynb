{
 "cells": [
  {
   "cell_type": "code",
   "execution_count": 154,
   "metadata": {
    "collapsed": true
   },
   "outputs": [],
   "source": [
    "from sklearn.datasets import make_blobs\n",
    "import numpy as np\n",
    "import matplotlib.pyplot as plt \n",
    "%matplotlib inline "
   ]
  },
  {
   "cell_type": "code",
   "execution_count": 155,
   "metadata": {},
   "outputs": [
    {
     "data": {
      "text/plain": [
       "<matplotlib.collections.PathCollection at 0x7f20e09634e0>"
      ]
     },
     "execution_count": 155,
     "metadata": {},
     "output_type": "execute_result"
    },
    {
     "data": {
      "image/png": "[encoded data removed]",
      "text/plain": [
       "<matplotlib.figure.Figure at 0x7f20e09c7860>"
      ]
     },
     "metadata": {},
     "output_type": "display_data"
    }
   ],
   "source": [
    "# make linear separated data\n",
    "X, y = make_blobs(n_samples=1000, n_features=10, centers=2, cluster_std=0.05, random_state=1)\n",
    "y[y == 0] = -1\n",
    "\n",
    "plt.scatter(x=X[y < 0, 0], y=X[y < 0, 1], color= 'blue')\n",
    "plt.scatter(x=X[y > 0, 0], y=X[y > 0, 1], color= 'red')"
   ]
  },
  {
   "cell_type": "code",
   "execution_count": 156,
   "metadata": {
    "collapsed": true
   },
   "outputs": [],
   "source": [
    "def svm_sgd(X, y, eta=.5, epochs=10):\n",
    "    \"\"\" \n",
    "    svm sgd with hinge loss gradient\n",
    "    \n",
    "    X -- features \n",
    "    y -- labels (-1/+1)\n",
    "    \n",
    "    regularization lambda = 1 / epoch_i (decay)\n",
    "    \n",
    "    source: \n",
    "    https://maviccprp.github.io/a-support-vector-machine-in-just-a-few-lines-of-python-code/\n",
    "    \"\"\"\n",
    "    \n",
    "    w = np.zeros(X.shape[1])\n",
    "    for epoch in range(1, epochs):\n",
    "        for i, x in enumerate(X):\n",
    "            if (y[i]*np.dot(X[i], w)) < 1:\n",
    "                w = w + eta * ( (X[i] * y[i]) + (-2  *(1/epoch)* w) )\n",
    "            else:\n",
    "                w = w + eta * (-2  *(1/epoch)* w)\n",
    "\n",
    "    return w\n"
   ]
  },
  {
   "cell_type": "code",
   "execution_count": 158,
   "metadata": {},
   "outputs": [
    {
     "data": {
      "text/plain": [
       "(True, array([ 0.0729972 , -0.33876599,  1.18010713,  2.19065395, -0.08269739,\n",
       "         2.38977842,  1.10051302,  0.88534053, -0.79531719, -1.22460351]))"
      ]
     },
     "execution_count": 158,
     "metadata": {},
     "output_type": "execute_result"
    }
   ],
   "source": [
    "w = svm_sgd(X, y)\n",
    "np.all(np.sign(X.dot(w)) == y), w"
   ]
  }
 ],
 "metadata": {
  "kernelspec": {
   "display_name": "Python 3",
   "language": "python",
   "name": "python3"
  },
  "language_info": {
   "codemirror_mode": {
    "name": "ipython",
    "version": 3
   },
   "file_extension": ".py",
   "mimetype": "text/x-python",
   "name": "python",
   "nbconvert_exporter": "python",
   "pygments_lexer": "ipython3",
   "version": "3.6.1"
  }
 },
 "nbformat": 4,
 "nbformat_minor": 2
}
